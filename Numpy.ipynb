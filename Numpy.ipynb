{
  "nbformat": 4,
  "nbformat_minor": 0,
  "metadata": {
    "colab": {
      "provenance": []
    },
    "kernelspec": {
      "name": "python3",
      "display_name": "Python 3"
    },
    "language_info": {
      "name": "python"
    }
  },
  "cells": [
    {
      "cell_type": "markdown",
      "source": [
        "Attach my dataset file with google colab"
      ],
      "metadata": {
        "id": "hepgY_mGr76K"
      }
    },
    {
      "cell_type": "code",
      "execution_count": null,
      "metadata": {
        "colab": {
          "base_uri": "https://localhost:8080/",
          "height": 91
        },
        "id": "ohE3oGR3ptBy",
        "outputId": "cedd7945-e255-4f99-d47e-04c904f6a709"
      },
      "outputs": [
        {
          "output_type": "display_data",
          "data": {
            "text/plain": [
              "<IPython.core.display.HTML object>"
            ],
            "text/html": [
              "\n",
              "     <input type=\"file\" id=\"files-556a4ce8-db96-470a-9e8f-bb19d91c6a22\" name=\"files[]\" multiple disabled\n",
              "        style=\"border:none\" />\n",
              "     <output id=\"result-556a4ce8-db96-470a-9e8f-bb19d91c6a22\">\n",
              "      Upload widget is only available when the cell has been executed in the\n",
              "      current browser session. Please rerun this cell to enable.\n",
              "      </output>\n",
              "      <script>// Copyright 2017 Google LLC\n",
              "//\n",
              "// Licensed under the Apache License, Version 2.0 (the \"License\");\n",
              "// you may not use this file except in compliance with the License.\n",
              "// You may obtain a copy of the License at\n",
              "//\n",
              "//      http://www.apache.org/licenses/LICENSE-2.0\n",
              "//\n",
              "// Unless required by applicable law or agreed to in writing, software\n",
              "// distributed under the License is distributed on an \"AS IS\" BASIS,\n",
              "// WITHOUT WARRANTIES OR CONDITIONS OF ANY KIND, either express or implied.\n",
              "// See the License for the specific language governing permissions and\n",
              "// limitations under the License.\n",
              "\n",
              "/**\n",
              " * @fileoverview Helpers for google.colab Python module.\n",
              " */\n",
              "(function(scope) {\n",
              "function span(text, styleAttributes = {}) {\n",
              "  const element = document.createElement('span');\n",
              "  element.textContent = text;\n",
              "  for (const key of Object.keys(styleAttributes)) {\n",
              "    element.style[key] = styleAttributes[key];\n",
              "  }\n",
              "  return element;\n",
              "}\n",
              "\n",
              "// Max number of bytes which will be uploaded at a time.\n",
              "const MAX_PAYLOAD_SIZE = 100 * 1024;\n",
              "\n",
              "function _uploadFiles(inputId, outputId) {\n",
              "  const steps = uploadFilesStep(inputId, outputId);\n",
              "  const outputElement = document.getElementById(outputId);\n",
              "  // Cache steps on the outputElement to make it available for the next call\n",
              "  // to uploadFilesContinue from Python.\n",
              "  outputElement.steps = steps;\n",
              "\n",
              "  return _uploadFilesContinue(outputId);\n",
              "}\n",
              "\n",
              "// This is roughly an async generator (not supported in the browser yet),\n",
              "// where there are multiple asynchronous steps and the Python side is going\n",
              "// to poll for completion of each step.\n",
              "// This uses a Promise to block the python side on completion of each step,\n",
              "// then passes the result of the previous step as the input to the next step.\n",
              "function _uploadFilesContinue(outputId) {\n",
              "  const outputElement = document.getElementById(outputId);\n",
              "  const steps = outputElement.steps;\n",
              "\n",
              "  const next = steps.next(outputElement.lastPromiseValue);\n",
              "  return Promise.resolve(next.value.promise).then((value) => {\n",
              "    // Cache the last promise value to make it available to the next\n",
              "    // step of the generator.\n",
              "    outputElement.lastPromiseValue = value;\n",
              "    return next.value.response;\n",
              "  });\n",
              "}\n",
              "\n",
              "/**\n",
              " * Generator function which is called between each async step of the upload\n",
              " * process.\n",
              " * @param {string} inputId Element ID of the input file picker element.\n",
              " * @param {string} outputId Element ID of the output display.\n",
              " * @return {!Iterable<!Object>} Iterable of next steps.\n",
              " */\n",
              "function* uploadFilesStep(inputId, outputId) {\n",
              "  const inputElement = document.getElementById(inputId);\n",
              "  inputElement.disabled = false;\n",
              "\n",
              "  const outputElement = document.getElementById(outputId);\n",
              "  outputElement.innerHTML = '';\n",
              "\n",
              "  const pickedPromise = new Promise((resolve) => {\n",
              "    inputElement.addEventListener('change', (e) => {\n",
              "      resolve(e.target.files);\n",
              "    });\n",
              "  });\n",
              "\n",
              "  const cancel = document.createElement('button');\n",
              "  inputElement.parentElement.appendChild(cancel);\n",
              "  cancel.textContent = 'Cancel upload';\n",
              "  const cancelPromise = new Promise((resolve) => {\n",
              "    cancel.onclick = () => {\n",
              "      resolve(null);\n",
              "    };\n",
              "  });\n",
              "\n",
              "  // Wait for the user to pick the files.\n",
              "  const files = yield {\n",
              "    promise: Promise.race([pickedPromise, cancelPromise]),\n",
              "    response: {\n",
              "      action: 'starting',\n",
              "    }\n",
              "  };\n",
              "\n",
              "  cancel.remove();\n",
              "\n",
              "  // Disable the input element since further picks are not allowed.\n",
              "  inputElement.disabled = true;\n",
              "\n",
              "  if (!files) {\n",
              "    return {\n",
              "      response: {\n",
              "        action: 'complete',\n",
              "      }\n",
              "    };\n",
              "  }\n",
              "\n",
              "  for (const file of files) {\n",
              "    const li = document.createElement('li');\n",
              "    li.append(span(file.name, {fontWeight: 'bold'}));\n",
              "    li.append(span(\n",
              "        `(${file.type || 'n/a'}) - ${file.size} bytes, ` +\n",
              "        `last modified: ${\n",
              "            file.lastModifiedDate ? file.lastModifiedDate.toLocaleDateString() :\n",
              "                                    'n/a'} - `));\n",
              "    const percent = span('0% done');\n",
              "    li.appendChild(percent);\n",
              "\n",
              "    outputElement.appendChild(li);\n",
              "\n",
              "    const fileDataPromise = new Promise((resolve) => {\n",
              "      const reader = new FileReader();\n",
              "      reader.onload = (e) => {\n",
              "        resolve(e.target.result);\n",
              "      };\n",
              "      reader.readAsArrayBuffer(file);\n",
              "    });\n",
              "    // Wait for the data to be ready.\n",
              "    let fileData = yield {\n",
              "      promise: fileDataPromise,\n",
              "      response: {\n",
              "        action: 'continue',\n",
              "      }\n",
              "    };\n",
              "\n",
              "    // Use a chunked sending to avoid message size limits. See b/62115660.\n",
              "    let position = 0;\n",
              "    do {\n",
              "      const length = Math.min(fileData.byteLength - position, MAX_PAYLOAD_SIZE);\n",
              "      const chunk = new Uint8Array(fileData, position, length);\n",
              "      position += length;\n",
              "\n",
              "      const base64 = btoa(String.fromCharCode.apply(null, chunk));\n",
              "      yield {\n",
              "        response: {\n",
              "          action: 'append',\n",
              "          file: file.name,\n",
              "          data: base64,\n",
              "        },\n",
              "      };\n",
              "\n",
              "      let percentDone = fileData.byteLength === 0 ?\n",
              "          100 :\n",
              "          Math.round((position / fileData.byteLength) * 100);\n",
              "      percent.textContent = `${percentDone}% done`;\n",
              "\n",
              "    } while (position < fileData.byteLength);\n",
              "  }\n",
              "\n",
              "  // All done.\n",
              "  yield {\n",
              "    response: {\n",
              "      action: 'complete',\n",
              "    }\n",
              "  };\n",
              "}\n",
              "\n",
              "scope.google = scope.google || {};\n",
              "scope.google.colab = scope.google.colab || {};\n",
              "scope.google.colab._files = {\n",
              "  _uploadFiles,\n",
              "  _uploadFilesContinue,\n",
              "};\n",
              "})(self);\n",
              "</script> "
            ]
          },
          "metadata": {}
        },
        {
          "output_type": "stream",
          "name": "stdout",
          "text": [
            "Saving Dataset.csv to Dataset (1).csv\n",
            "User uploaded file \"Dataset (1).csv\" with length 46831 bytes\n"
          ]
        }
      ],
      "source": [
        "from google.colab import files\n",
        "import numpy as np\n",
        "\n",
        "# Upload the file\n",
        "uploaded = files.upload()\n",
        "\n",
        "# Verify the upload\n",
        "for filename in uploaded.keys():\n",
        "    print(f'User uploaded file \"{filename}\" with length {len(uploaded[filename])} bytes')\n",
        "\n",
        "# Assuming the uploaded file is named 'dataset.csv'\n",
        "data = np.genfromtxt('Dataset.csv', delimiter=',', skip_header=1)\n",
        "\n",
        "\n"
      ]
    },
    {
      "cell_type": "markdown",
      "source": [
        "Just assigning datatypes to columns for calculations"
      ],
      "metadata": {
        "id": "EkZWWzWM35xc"
      }
    },
    {
      "cell_type": "code",
      "source": [
        "import numpy as np\n",
        "\n",
        "# Define the data types for each column. Here 'U10' translates to \"Unicode string of maximum length 10,\" 'i4'\n",
        "#translates to \"4-byte (i.e., 32 bit) integer,\" and 'f8' translates to \"8-byte (i.e., 64 bit) float\n",
        "dtype = [('age', 'f8'), ('sex', 'U10'), ('bmi', 'f8'), ('children', 'i4'), ('smoker', 'U10'), ('region', 'U10'), ('charges', 'f8')]\n"
      ],
      "metadata": {
        "id": "njW4GT4uzFVE"
      },
      "execution_count": 20,
      "outputs": []
    },
    {
      "cell_type": "markdown",
      "source": [
        "Load the file into numpy array"
      ],
      "metadata": {
        "id": "Qkv8SG4Grxlf"
      }
    },
    {
      "cell_type": "code",
      "source": [
        "import numpy as np\n",
        "data = np.genfromtxt('Dataset.csv', delimiter=',', skip_header=1, dtype=dtype, encoding=None)\n"
      ],
      "metadata": {
        "id": "xJhHBCa_rb3S"
      },
      "execution_count": 25,
      "outputs": []
    },
    {
      "cell_type": "markdown",
      "source": [
        "**Basic Statistics**\n",
        "\n",
        "Calculate mean, median, and standard deviation for numerical columns."
      ],
      "metadata": {
        "id": "eRqvMURgsGZ3"
      }
    },
    {
      "cell_type": "code",
      "source": [
        "ages = data['age'].astype(float)\n",
        "bmis = data['bmi'].astype(float)\n",
        "charges = data['charges'].astype(float)\n",
        "\n",
        "# Calculate mean, median, and standard deviation\n",
        "mean_age = np.mean(ages)\n",
        "median_age = np.median(ages)\n",
        "std_age = np.std(ages)\n",
        "\n",
        "mean_bmi = np.mean(bmis)\n",
        "median_bmi = np.median(bmis)\n",
        "std_bmi = np.std(bmis)\n",
        "\n",
        "mean_charges = np.mean(charges)\n",
        "median_charges = np.median(charges)\n",
        "std_charges = np.std(charges)\n",
        "\n",
        "# Step 4: Print results\n",
        "print(f\"Mean Age: {mean_age}, Median Age: {median_age}, Standard Deviation Age: {std_age}\")\n",
        "print(f\"Mean BMI: {mean_bmi}, Median BMI: {median_bmi}, Standard Deviation BMI: {std_bmi}\")\n",
        "print(f\"Mean Charges: {mean_charges}, Median Charges: {median_charges}, Standard Deviation Charges: {std_charges}\")"
      ],
      "metadata": {
        "colab": {
          "base_uri": "https://localhost:8080/"
        },
        "id": "wkvTrI74sOtv",
        "outputId": "49bdc41b-57f7-4771-d5fd-4543bdde19d5"
      },
      "execution_count": 28,
      "outputs": [
        {
          "output_type": "stream",
          "name": "stdout",
          "text": [
            "Mean Age: 39.566992014196984, Median Age: 40.0, Standard Deviation Age: 13.998310587094037\n",
            "Mean BMI: 30.746597160603365, Median BMI: 30.495, Standard Deviation BMI: 6.077269278683908\n",
            "Mean Charges: 13267.379372598936, Median Charges: 9487.6442, Standard Deviation Charges: 12033.899980810114\n"
          ]
        }
      ]
    },
    {
      "cell_type": "markdown",
      "source": [
        "In this code i filter out the persons who smokes and who does not smoker"
      ],
      "metadata": {
        "id": "OUvZrDrdw1AA"
      }
    },
    {
      "cell_type": "code",
      "source": [
        "\n",
        "smokers = data[data['smoker'] == 'yes']\n",
        "non_smokers = data[data['smoker'] == 'no']\n",
        "\n",
        "# Count the number of smokers and non-smokers\n",
        "num_smokers = smokers.shape[0]\n",
        "num_non_smokers = non_smokers.shape[0]\n",
        "\n",
        "print(f\"Number of Smokers: {num_smokers}\")\n",
        "print(f\"Number of Non-Smokers: {num_non_smokers}\")\n",
        "\n"
      ],
      "metadata": {
        "colab": {
          "base_uri": "https://localhost:8080/"
        },
        "id": "SU5ODHmCw1hf",
        "outputId": "87931bb5-3bf2-4e43-aad7-037a198e8aae"
      },
      "execution_count": 27,
      "outputs": [
        {
          "output_type": "stream",
          "name": "stdout",
          "text": [
            "Number of Smokers: 222\n",
            "Number of Non-Smokers: 905\n"
          ]
        }
      ]
    },
    {
      "cell_type": "markdown",
      "source": [
        "**ELEMENT-WISE OPERATIONS**\n",
        "In this code all BMI values will be increased by 2%"
      ],
      "metadata": {
        "id": "EMvFLzgf4DAT"
      }
    },
    {
      "cell_type": "code",
      "source": [
        "bmi = data['bmi']\n",
        "increased_bmi = bmi * 1.02\n",
        "\n",
        "print(f\"Original BMI: {bmi[:5]}\")  # Print first 5 values\n",
        "print(f\"Increased BMI: {increased_bmi[:5]}\")  # Print first 5 values"
      ],
      "metadata": {
        "colab": {
          "base_uri": "https://localhost:8080/"
        },
        "id": "oeVM3fHv4ULb",
        "outputId": "5524f4ab-6a29-4c65-a1ff-c3d49845ed3f"
      },
      "execution_count": 29,
      "outputs": [
        {
          "output_type": "stream",
          "name": "stdout",
          "text": [
            "Original BMI: [27.9   33.77  33.    22.705 28.88 ]\n",
            "Increased BMI: [28.458  34.4454 33.66   23.1591 29.4576]\n"
          ]
        }
      ]
    }
  ]
}