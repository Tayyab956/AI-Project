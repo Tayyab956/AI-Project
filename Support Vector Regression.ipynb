{
  "nbformat": 4,
  "nbformat_minor": 0,
  "metadata": {
    "colab": {
      "provenance": [],
      "toc_visible": true
    },
    "kernelspec": {
      "name": "python3",
      "display_name": "Python 3"
    },
    "language_info": {
      "name": "python"
    }
  },
  "cells": [
    {
      "cell_type": "markdown",
      "source": [
        "Import Libraries and Load Data"
      ],
      "metadata": {
        "id": "DomfFjG9_Opc"
      }
    },
    {
      "cell_type": "code",
      "execution_count": 1,
      "metadata": {
        "colab": {
          "base_uri": "https://localhost:8080/",
          "height": 183
        },
        "id": "h1spPxMr-1jg",
        "outputId": "69f4f066-8525-4ff6-bd57-e631f9af4386"
      },
      "outputs": [
        {
          "output_type": "display_data",
          "data": {
            "text/plain": [
              "<IPython.core.display.HTML object>"
            ],
            "text/html": [
              "\n",
              "     <input type=\"file\" id=\"files-a3eee9ad-6715-402b-a5c1-9f3b9ab014ac\" name=\"files[]\" multiple disabled\n",
              "        style=\"border:none\" />\n",
              "     <output id=\"result-a3eee9ad-6715-402b-a5c1-9f3b9ab014ac\">\n",
              "      Upload widget is only available when the cell has been executed in the\n",
              "      current browser session. Please rerun this cell to enable.\n",
              "      </output>\n",
              "      <script>// Copyright 2017 Google LLC\n",
              "//\n",
              "// Licensed under the Apache License, Version 2.0 (the \"License\");\n",
              "// you may not use this file except in compliance with the License.\n",
              "// You may obtain a copy of the License at\n",
              "//\n",
              "//      http://www.apache.org/licenses/LICENSE-2.0\n",
              "//\n",
              "// Unless required by applicable law or agreed to in writing, software\n",
              "// distributed under the License is distributed on an \"AS IS\" BASIS,\n",
              "// WITHOUT WARRANTIES OR CONDITIONS OF ANY KIND, either express or implied.\n",
              "// See the License for the specific language governing permissions and\n",
              "// limitations under the License.\n",
              "\n",
              "/**\n",
              " * @fileoverview Helpers for google.colab Python module.\n",
              " */\n",
              "(function(scope) {\n",
              "function span(text, styleAttributes = {}) {\n",
              "  const element = document.createElement('span');\n",
              "  element.textContent = text;\n",
              "  for (const key of Object.keys(styleAttributes)) {\n",
              "    element.style[key] = styleAttributes[key];\n",
              "  }\n",
              "  return element;\n",
              "}\n",
              "\n",
              "// Max number of bytes which will be uploaded at a time.\n",
              "const MAX_PAYLOAD_SIZE = 100 * 1024;\n",
              "\n",
              "function _uploadFiles(inputId, outputId) {\n",
              "  const steps = uploadFilesStep(inputId, outputId);\n",
              "  const outputElement = document.getElementById(outputId);\n",
              "  // Cache steps on the outputElement to make it available for the next call\n",
              "  // to uploadFilesContinue from Python.\n",
              "  outputElement.steps = steps;\n",
              "\n",
              "  return _uploadFilesContinue(outputId);\n",
              "}\n",
              "\n",
              "// This is roughly an async generator (not supported in the browser yet),\n",
              "// where there are multiple asynchronous steps and the Python side is going\n",
              "// to poll for completion of each step.\n",
              "// This uses a Promise to block the python side on completion of each step,\n",
              "// then passes the result of the previous step as the input to the next step.\n",
              "function _uploadFilesContinue(outputId) {\n",
              "  const outputElement = document.getElementById(outputId);\n",
              "  const steps = outputElement.steps;\n",
              "\n",
              "  const next = steps.next(outputElement.lastPromiseValue);\n",
              "  return Promise.resolve(next.value.promise).then((value) => {\n",
              "    // Cache the last promise value to make it available to the next\n",
              "    // step of the generator.\n",
              "    outputElement.lastPromiseValue = value;\n",
              "    return next.value.response;\n",
              "  });\n",
              "}\n",
              "\n",
              "/**\n",
              " * Generator function which is called between each async step of the upload\n",
              " * process.\n",
              " * @param {string} inputId Element ID of the input file picker element.\n",
              " * @param {string} outputId Element ID of the output display.\n",
              " * @return {!Iterable<!Object>} Iterable of next steps.\n",
              " */\n",
              "function* uploadFilesStep(inputId, outputId) {\n",
              "  const inputElement = document.getElementById(inputId);\n",
              "  inputElement.disabled = false;\n",
              "\n",
              "  const outputElement = document.getElementById(outputId);\n",
              "  outputElement.innerHTML = '';\n",
              "\n",
              "  const pickedPromise = new Promise((resolve) => {\n",
              "    inputElement.addEventListener('change', (e) => {\n",
              "      resolve(e.target.files);\n",
              "    });\n",
              "  });\n",
              "\n",
              "  const cancel = document.createElement('button');\n",
              "  inputElement.parentElement.appendChild(cancel);\n",
              "  cancel.textContent = 'Cancel upload';\n",
              "  const cancelPromise = new Promise((resolve) => {\n",
              "    cancel.onclick = () => {\n",
              "      resolve(null);\n",
              "    };\n",
              "  });\n",
              "\n",
              "  // Wait for the user to pick the files.\n",
              "  const files = yield {\n",
              "    promise: Promise.race([pickedPromise, cancelPromise]),\n",
              "    response: {\n",
              "      action: 'starting',\n",
              "    }\n",
              "  };\n",
              "\n",
              "  cancel.remove();\n",
              "\n",
              "  // Disable the input element since further picks are not allowed.\n",
              "  inputElement.disabled = true;\n",
              "\n",
              "  if (!files) {\n",
              "    return {\n",
              "      response: {\n",
              "        action: 'complete',\n",
              "      }\n",
              "    };\n",
              "  }\n",
              "\n",
              "  for (const file of files) {\n",
              "    const li = document.createElement('li');\n",
              "    li.append(span(file.name, {fontWeight: 'bold'}));\n",
              "    li.append(span(\n",
              "        `(${file.type || 'n/a'}) - ${file.size} bytes, ` +\n",
              "        `last modified: ${\n",
              "            file.lastModifiedDate ? file.lastModifiedDate.toLocaleDateString() :\n",
              "                                    'n/a'} - `));\n",
              "    const percent = span('0% done');\n",
              "    li.appendChild(percent);\n",
              "\n",
              "    outputElement.appendChild(li);\n",
              "\n",
              "    const fileDataPromise = new Promise((resolve) => {\n",
              "      const reader = new FileReader();\n",
              "      reader.onload = (e) => {\n",
              "        resolve(e.target.result);\n",
              "      };\n",
              "      reader.readAsArrayBuffer(file);\n",
              "    });\n",
              "    // Wait for the data to be ready.\n",
              "    let fileData = yield {\n",
              "      promise: fileDataPromise,\n",
              "      response: {\n",
              "        action: 'continue',\n",
              "      }\n",
              "    };\n",
              "\n",
              "    // Use a chunked sending to avoid message size limits. See b/62115660.\n",
              "    let position = 0;\n",
              "    do {\n",
              "      const length = Math.min(fileData.byteLength - position, MAX_PAYLOAD_SIZE);\n",
              "      const chunk = new Uint8Array(fileData, position, length);\n",
              "      position += length;\n",
              "\n",
              "      const base64 = btoa(String.fromCharCode.apply(null, chunk));\n",
              "      yield {\n",
              "        response: {\n",
              "          action: 'append',\n",
              "          file: file.name,\n",
              "          data: base64,\n",
              "        },\n",
              "      };\n",
              "\n",
              "      let percentDone = fileData.byteLength === 0 ?\n",
              "          100 :\n",
              "          Math.round((position / fileData.byteLength) * 100);\n",
              "      percent.textContent = `${percentDone}% done`;\n",
              "\n",
              "    } while (position < fileData.byteLength);\n",
              "  }\n",
              "\n",
              "  // All done.\n",
              "  yield {\n",
              "    response: {\n",
              "      action: 'complete',\n",
              "    }\n",
              "  };\n",
              "}\n",
              "\n",
              "scope.google = scope.google || {};\n",
              "scope.google.colab = scope.google.colab || {};\n",
              "scope.google.colab._files = {\n",
              "  _uploadFiles,\n",
              "  _uploadFilesContinue,\n",
              "};\n",
              "})(self);\n",
              "</script> "
            ]
          },
          "metadata": {}
        },
        {
          "output_type": "stream",
          "name": "stdout",
          "text": [
            "Saving Dataset.csv to Dataset (1).csv\n",
            "   age     sex     bmi  children smoker     region      charges\n",
            "0   19  female  27.900         0    yes  southwest  16884.92400\n",
            "1   18    male  33.770         1     no  southeast   1725.55230\n",
            "2   28    male  33.000         3     no  southeast   4449.46200\n",
            "3   33    male  22.705         0     no  northwest  21984.47061\n",
            "4   32    male  28.880         0     no  northwest   3866.85520\n"
          ]
        }
      ],
      "source": [
        "import pandas as pd\n",
        "from sklearn.model_selection import train_test_split\n",
        "from sklearn.preprocessing import LabelEncoder, StandardScaler\n",
        "from sklearn.linear_model import LogisticRegression, LinearRegression\n",
        "from sklearn.tree import DecisionTreeClassifier, DecisionTreeRegressor\n",
        "from sklearn.ensemble import RandomForestClassifier, RandomForestRegressor, GradientBoostingClassifier, GradientBoostingRegressor\n",
        "from sklearn.svm import SVC, SVR\n",
        "from sklearn.neighbors import KNeighborsClassifier, KNeighborsRegressor\n",
        "from sklearn.metrics import accuracy_score, precision_score, recall_score, f1_score, mean_squared_error, mean_absolute_error\n",
        "import numpy as np\n",
        "\n",
        "# Load the dataset\n",
        "from google.colab import files\n",
        "uploaded = files.upload()\n",
        "df = pd.read_csv('Dataset.csv')\n",
        "\n",
        "# Display the first few rows of the dataset\n",
        "print(df.head())\n"
      ]
    },
    {
      "cell_type": "markdown",
      "source": [
        "Preprocess the data"
      ],
      "metadata": {
        "id": "H13ibs3R_QbF"
      }
    },
    {
      "cell_type": "code",
      "source": [
        "# Check for missing values\n",
        "missing_values = df.isnull().sum()\n",
        "print(\"Missing values:\\n\", missing_values)\n",
        "\n",
        "# Encode categorical variables\n",
        "label_encoders = {}\n",
        "categorical_columns = ['sex', 'smoker', 'region']\n",
        "\n",
        "for col in categorical_columns:\n",
        "    label_encoders[col] = LabelEncoder()\n",
        "    df[col] = label_encoders[col].fit_transform(df[col])\n",
        "\n",
        "# Split the data into features and target variables\n",
        "X = df.drop(['charges', 'smoker'], axis=1)  # Features for regression\n",
        "y_regression = df['charges']                # Target for regression\n",
        "y_classification = df['smoker']             # Target for classification\n",
        "\n",
        "# Split the data into training and testing sets\n",
        "X_train_reg, X_test_reg, y_train_reg, y_test_reg = train_test_split(X, y_regression, test_size=0.2, random_state=42)\n",
        "X_train_clf, X_test_clf, y_train_clf, y_test_clf = train_test_split(X, y_classification, test_size=0.2, random_state=42)\n",
        "\n",
        "# Scale the features\n",
        "scaler = StandardScaler()\n",
        "X_train_reg = scaler.fit_transform(X_train_reg)\n",
        "X_test_reg = scaler.transform(X_test_reg)\n",
        "X_train_clf = scaler.fit_transform(X_train_clf)\n",
        "X_test_clf = scaler.transform(X_test_clf)\n"
      ],
      "metadata": {
        "colab": {
          "base_uri": "https://localhost:8080/"
        },
        "id": "w4uD2pro_RDI",
        "outputId": "cd751552-3b75-4b44-846b-1b36a8fee1e4"
      },
      "execution_count": 2,
      "outputs": [
        {
          "output_type": "stream",
          "name": "stdout",
          "text": [
            "Missing values:\n",
            " age         0\n",
            "sex         0\n",
            "bmi         0\n",
            "children    0\n",
            "smoker      0\n",
            "region      0\n",
            "charges     0\n",
            "dtype: int64\n"
          ]
        }
      ]
    },
    {
      "cell_type": "markdown",
      "source": [
        "Evaluate Classification Models"
      ],
      "metadata": {
        "id": "OmAuvKkJ_dzL"
      }
    },
    {
      "cell_type": "code",
      "source": [
        "# Initialize models\n",
        "classifiers = {\n",
        "    \"Logistic Regression\": LogisticRegression(),\n",
        "    \"Decision Tree Classifier\": DecisionTreeClassifier(),\n",
        "    \"Random Forest Classifier\": RandomForestClassifier(),\n",
        "    \"Support Vector Classifier\": SVC(),\n",
        "    \"K-Nearest Neighbors\": KNeighborsClassifier(),\n",
        "    \"Gradient Boosting Classifier\": GradientBoostingClassifier()\n",
        "}\n",
        "\n",
        "# Function to evaluate models\n",
        "def evaluate_classification_models(models, X_train, y_train, X_test, y_test):\n",
        "    results = {}\n",
        "    for name, model in models.items():\n",
        "        model.fit(X_train, y_train)\n",
        "        y_pred = model.predict(X_test)\n",
        "        results[name] = {\n",
        "            \"Accuracy\": accuracy_score(y_test, y_pred),\n",
        "\n",
        "            \"Precision\": precision_score(y_test, y_pred, zero_division=0),\n",
        "            \"Recall\": recall_score(y_test, y_pred, zero_division=0),\n",
        "            \"F1-Score\": f1_score(y_test, y_pred, zero_division=0)\n",
        "        }\n",
        "    return results\n",
        "\n",
        "# Evaluate models\n",
        "classification_results = evaluate_classification_models(classifiers, X_train_clf, y_train_clf, X_test_clf, y_test_clf)\n",
        "print(\"Classification Results:\\n\", classification_results)\n"
      ],
      "metadata": {
        "colab": {
          "base_uri": "https://localhost:8080/"
        },
        "id": "Fok6qUbm_i5u",
        "outputId": "b0c7b679-10bf-4eaf-b7f5-23fbdea96111"
      },
      "execution_count": 6,
      "outputs": [
        {
          "output_type": "stream",
          "name": "stdout",
          "text": [
            "Classification Results:\n",
            " {'Logistic Regression': {'Accuracy': 0.8008849557522124, 'Precision': 0.0, 'Recall': 0.0, 'F1-Score': 0.0}, 'Decision Tree Classifier': {'Accuracy': 0.7168141592920354, 'Precision': 0.2564102564102564, 'Recall': 0.2222222222222222, 'F1-Score': 0.23809523809523808}, 'Random Forest Classifier': {'Accuracy': 0.7610619469026548, 'Precision': 0.2, 'Recall': 0.06666666666666667, 'F1-Score': 0.1}, 'Support Vector Classifier': {'Accuracy': 0.8008849557522124, 'Precision': 0.0, 'Recall': 0.0, 'F1-Score': 0.0}, 'K-Nearest Neighbors': {'Accuracy': 0.7566371681415929, 'Precision': 0.2916666666666667, 'Recall': 0.15555555555555556, 'F1-Score': 0.2028985507246377}, 'Gradient Boosting Classifier': {'Accuracy': 0.7876106194690266, 'Precision': 0.0, 'Recall': 0.0, 'F1-Score': 0.0}}\n"
          ]
        }
      ]
    },
    {
      "cell_type": "markdown",
      "source": [
        "The Logistic Regression, Support Vector Classifier, and Gradient Boosting Classifier have 0 values for Precision, Recall, and F1-Score due to the absence of positive predictions."
      ],
      "metadata": {
        "id": "F6wPbjXOARmx"
      }
    },
    {
      "cell_type": "markdown",
      "source": [
        "**Regression Model Implementation and Evaluation**\n",
        "\n",
        "Next, let's implement and evaluate regression models using RMSE and MAE."
      ],
      "metadata": {
        "id": "rtwfmhCLASpf"
      }
    },
    {
      "cell_type": "code",
      "source": [
        "# Initialize models\n",
        "regressors = {\n",
        "    \"Linear Regression\": LinearRegression(),\n",
        "    \"Decision Tree Regressor\": DecisionTreeRegressor(),\n",
        "    \"Random Forest Regressor\": RandomForestRegressor(),\n",
        "    \"Support Vector Regressor\": SVR(),\n",
        "    \"K-Nearest Neighbors\": KNeighborsRegressor(),\n",
        "    \"Gradient Boosting Regressor\": GradientBoostingRegressor()\n",
        "}\n",
        "\n",
        "# Function to evaluate models\n",
        "def evaluate_regression_models(models, X_train, y_train, X_test, y_test):\n",
        "    results = {}\n",
        "    for name, model in models.items():\n",
        "        model.fit(X_train, y_train)\n",
        "        y_pred = model.predict(X_test)\n",
        "        results[name] = {\n",
        "            \"RMSE\": np.sqrt(mean_squared_error(y_test, y_pred)),\n",
        "            \"MAE\": mean_absolute_error(y_test, y_pred)\n",
        "        }\n",
        "    return results\n",
        "\n",
        "# Evaluate models\n",
        "regression_results = evaluate_regression_models(regressors, X_train_reg, y_train_reg, X_test_reg, y_test_reg)\n",
        "print(\"Regression Results:\\n\", regression_results)\n"
      ],
      "metadata": {
        "colab": {
          "base_uri": "https://localhost:8080/"
        },
        "id": "OTi0UJdtAX6U",
        "outputId": "a9bffce3-4292-4cf5-adb2-4b4a51f7c315"
      },
      "execution_count": 7,
      "outputs": [
        {
          "output_type": "stream",
          "name": "stdout",
          "text": [
            "Regression Results:\n",
            " {'Linear Regression': {'RMSE': 11867.524254463204, 'MAE': 9316.655594881582}, 'Decision Tree Regressor': {'RMSE': 16585.933312486257, 'MAE': 10690.64210823009}, 'Random Forest Regressor': {'RMSE': 12876.298414879664, 'MAE': 9871.579044561813}, 'Support Vector Regressor': {'RMSE': 13395.245571079342, 'MAE': 8470.780287429792}, 'K-Nearest Neighbors': {'RMSE': 13067.717125874671, 'MAE': 9666.096928884072}, 'Gradient Boosting Regressor': {'RMSE': 12406.023698867106, 'MAE': 9388.583554887198}}\n"
          ]
        }
      ]
    },
    {
      "cell_type": "markdown",
      "source": [
        "# New Section"
      ],
      "metadata": {
        "id": "ml7upTsuC5cH"
      }
    },
    {
      "cell_type": "markdown",
      "source": [
        "I have mention all the stats of diiferent models in report. so based on that report and the overall performance metrics, let's proceed with the **Decision Tree Classifier** for the **classification task** and the **Support Vector Regressor** for the **regression task**."
      ],
      "metadata": {
        "id": "Nh4mIdOWC7J1"
      }
    },
    {
      "cell_type": "markdown",
      "source": [
        "Decision Tree Classifier: Detailed Evaluation"
      ],
      "metadata": {
        "id": "4tVg8icWDJ1T"
      }
    },
    {
      "cell_type": "code",
      "source": [
        "from sklearn.model_selection import GridSearchCV, cross_val_score\n",
        "from sklearn.metrics import classification_report, confusion_matrix\n",
        "\n",
        "# Hyperparameter tuning\n",
        "param_grid = {\n",
        "    'criterion': ['gini', 'entropy'],\n",
        "    'max_depth': [None, 10, 20, 30, 40, 50],\n",
        "    'min_samples_split': [2, 5, 10],\n",
        "    'min_samples_leaf': [1, 2, 4]\n",
        "}\n",
        "\n",
        "grid_search_clf = GridSearchCV(DecisionTreeClassifier(), param_grid, cv=5, scoring='accuracy')\n",
        "grid_search_clf.fit(X_train_clf, y_train_clf)\n",
        "\n",
        "# Best parameters and score\n",
        "best_params_clf = grid_search_clf.best_params_\n",
        "best_score_clf = grid_search_clf.best_score_\n",
        "\n",
        "print(\"Best parameters for Decision Tree Classifier: \", best_params_clf)\n",
        "print(\"Best cross-validation accuracy: \", best_score_clf)\n",
        "\n",
        "# Evaluate on test set\n",
        "best_clf = grid_search_clf.best_estimator_\n",
        "y_pred_clf = best_clf.predict(X_test_clf)\n",
        "\n",
        "print(\"Test Set Accuracy: \", accuracy_score(y_test_clf, y_pred_clf))\n",
        "print(\"Confusion Matrix:\\n\", confusion_matrix(y_test_clf, y_pred_clf))\n",
        "print(\"Classification Report:\\n\", classification_report(y_test_clf, y_pred_clf))\n"
      ],
      "metadata": {
        "colab": {
          "base_uri": "https://localhost:8080/"
        },
        "id": "asfe2shcC-ql",
        "outputId": "a89251c4-8ccf-47e1-da99-f2bc5976d498"
      },
      "execution_count": 8,
      "outputs": [
        {
          "output_type": "stream",
          "name": "stdout",
          "text": [
            "Best parameters for Decision Tree Classifier:  {'criterion': 'gini', 'max_depth': 10, 'min_samples_leaf': 1, 'min_samples_split': 10}\n",
            "Best cross-validation accuracy:  0.7313934929404542\n",
            "Test Set Accuracy:  0.7212389380530974\n",
            "Confusion Matrix:\n",
            " [[158  23]\n",
            " [ 40   5]]\n",
            "Classification Report:\n",
            "               precision    recall  f1-score   support\n",
            "\n",
            "           0       0.80      0.87      0.83       181\n",
            "           1       0.18      0.11      0.14        45\n",
            "\n",
            "    accuracy                           0.72       226\n",
            "   macro avg       0.49      0.49      0.49       226\n",
            "weighted avg       0.67      0.72      0.70       226\n",
            "\n"
          ]
        }
      ]
    },
    {
      "cell_type": "markdown",
      "source": [
        "Support Vector Regressor: Detailed Evaluation"
      ],
      "metadata": {
        "id": "fHMQaP5vDikR"
      }
    },
    {
      "cell_type": "code",
      "source": [
        "\n",
        "# Hyperparameter tuning\n",
        "param_grid = {\n",
        "    'kernel': ['linear', 'poly', 'rbf', 'sigmoid'],\n",
        "    'C': [0.1, 1, 10, 100],\n",
        "    'epsilon': [0.1, 0.2, 0.5, 0.3, 0.05]\n",
        "}\n",
        "\n",
        "grid_search_reg = GridSearchCV(SVR(), param_grid, cv=5, scoring='neg_mean_squared_error')\n",
        "grid_search_reg.fit(X_train_reg, y_train_reg)\n",
        "\n",
        "# Best parameters and score\n",
        "best_params_reg = grid_search_reg.best_params_\n",
        "best_score_reg = grid_search_reg.best_score_\n",
        "\n",
        "print(\"Best parameters for Support Vector Regressor: \", best_params_reg)\n",
        "print(\"Best cross-validation RMSE: \", np.sqrt(-best_score_reg))\n",
        "\n",
        "# Evaluate on test set\n",
        "best_reg = grid_search_reg.best_estimator_\n",
        "y_pred_reg = best_reg.predict(X_test_reg)\n",
        "\n",
        "print(\"Test Set RMSE: \", np.sqrt(mean_squared_error(y_test_reg, y_pred_reg)))\n",
        "print(\"Test Set MAE: \", mean_absolute_error(y_test_reg, y_pred_reg))"
      ],
      "metadata": {
        "colab": {
          "base_uri": "https://localhost:8080/"
        },
        "id": "TgRAVQSJDpak",
        "outputId": "9cdc7570-5077-4cb8-f19b-1c380bd1d5f3"
      },
      "execution_count": 9,
      "outputs": [
        {
          "output_type": "stream",
          "name": "stdout",
          "text": [
            "Best parameters for Support Vector Regressor:  {'C': 10, 'epsilon': 0.5, 'kernel': 'sigmoid'}\n",
            "Best cross-validation RMSE:  12512.581295742752\n",
            "Test Set RMSE:  13357.820176534256\n",
            "Test Set MAE:  8098.752940231096\n"
          ]
        }
      ]
    }
  ]
}